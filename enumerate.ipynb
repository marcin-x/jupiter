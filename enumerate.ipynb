{
 "cells": [
  {
   "cell_type": "markdown",
   "id": "ff1f7130",
   "metadata": {},
   "source": [
    "# enumerate()\n",
    "### przykład funkcji:"
   ]
  },
  {
   "cell_type": "code",
   "execution_count": 2,
   "id": "3bae4ecb",
   "metadata": {},
   "outputs": [
    {
     "name": "stdout",
     "output_type": "stream",
     "text": [
      "a 0\n",
      "b 1\n",
      "c 2\n",
      "d 3\n"
     ]
    }
   ],
   "source": [
    "array = ['a', 'b', 'c', 'd']\n",
    "\n",
    "for index, value in enumerate(array):\n",
    "    print(value, index)"
   ]
  },
  {
   "cell_type": "markdown",
   "id": "b743118e",
   "metadata": {},
   "source": [
    "### nazwy parametrów mogą być dowolne, przy czym pierwszy zawsze jest indeks:"
   ]
  },
  {
   "cell_type": "code",
   "execution_count": 3,
   "id": "4d8dc1b4",
   "metadata": {},
   "outputs": [
    {
     "name": "stdout",
     "output_type": "stream",
     "text": [
      "1 0\n",
      "b 1\n",
      "c 2\n",
      "d 3\n"
     ]
    }
   ],
   "source": [
    "array = [1, 'b', 'c', 'd']\n",
    "\n",
    "for i, v in enumerate(array):\n",
    "    print(v, i)"
   ]
  }
 ],
 "metadata": {
  "kernelspec": {
   "display_name": "Python 3",
   "language": "python",
   "name": "python3"
  },
  "language_info": {
   "codemirror_mode": {
    "name": "ipython",
    "version": 3
   },
   "file_extension": ".py",
   "mimetype": "text/x-python",
   "name": "python",
   "nbconvert_exporter": "python",
   "pygments_lexer": "ipython3",
   "version": "3.8.8"
  }
 },
 "nbformat": 4,
 "nbformat_minor": 5
}
